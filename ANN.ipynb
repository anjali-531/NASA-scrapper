{
  "nbformat": 4,
  "nbformat_minor": 0,
  "metadata": {
    "colab": {
      "name": "ANN.ipynb",
      "provenance": [],
      "authorship_tag": "ABX9TyMYTot+1ifNc6fiheYR6nuM"
    },
    "kernelspec": {
      "name": "python3",
      "display_name": "Python 3"
    }
  },
  "cells": [
    {
      "cell_type": "code",
      "metadata": {
        "id": "-5QoueSmdQ2j",
        "colab_type": "code",
        "colab": {}
      },
      "source": [
        "import torch\n",
        "import torchvision"
      ],
      "execution_count": null,
      "outputs": []
    },
    {
      "cell_type": "code",
      "metadata": {
        "id": "cYhyNZkewk1i",
        "colab_type": "code",
        "colab": {}
      },
      "source": [
        "from torchvision import transforms"
      ],
      "execution_count": null,
      "outputs": []
    },
    {
      "cell_type": "code",
      "metadata": {
        "id": "7fv0PUw5wlz8",
        "colab_type": "code",
        "colab": {}
      },
      "source": [
        "_tasks = transforms.Compose([\n",
        "    transforms.ToTensor(),\n",
        "    transforms.Normalize((0.5, 0.5, 0.5), (0.5, 0.5, 0.5))\n",
        "    ])"
      ],
      "execution_count": null,
      "outputs": []
    },
    {
      "cell_type": "code",
      "metadata": {
        "id": "_x9h1BFvddpS",
        "colab_type": "code",
        "colab": {
          "base_uri": "https://localhost:8080/",
          "height": 34
        },
        "outputId": "fe975af8-62a4-4a28-e5e9-39795b8499f9"
      },
      "source": [
        "from torchvision.datasets import CIFAR10\n",
        "cifar = CIFAR10('data', train=True, download=True, transform=_tasks)"
      ],
      "execution_count": null,
      "outputs": [
        {
          "output_type": "stream",
          "text": [
            "Files already downloaded and verified\n"
          ],
          "name": "stdout"
        }
      ]
    },
    {
      "cell_type": "code",
      "metadata": {
        "id": "RgsPmCrIw7rj",
        "colab_type": "code",
        "colab": {}
      },
      "source": [
        "from torch.utils.data import DataLoader\n",
        "from torch.utils.data.sampler import SubsetRandomSampler"
      ],
      "execution_count": null,
      "outputs": []
    },
    {
      "cell_type": "code",
      "metadata": {
        "id": "js98yuREw_S2",
        "colab_type": "code",
        "colab": {}
      },
      "source": [
        "split = int(0.8 * len(cifar))\n",
        "index_list = list(range(len(cifar)))\n",
        "train_idx, valid_idx = index_list[:split], index_list[split:]"
      ],
      "execution_count": null,
      "outputs": []
    },
    {
      "cell_type": "code",
      "metadata": {
        "id": "RO79hNscxJ4w",
        "colab_type": "code",
        "colab": {}
      },
      "source": [
        "tr_sampler = SubsetRandomSampler(train_idx)\n",
        "val_sampler = SubsetRandomSampler(valid_idx)"
      ],
      "execution_count": null,
      "outputs": []
    },
    {
      "cell_type": "code",
      "metadata": {
        "id": "2jCWg6edxNQ9",
        "colab_type": "code",
        "colab": {}
      },
      "source": [
        "trainloader = DataLoader(cifar, batch_size=256, sampler=tr_sampler)\n",
        "validloader = DataLoader(cifar, batch_size=256, sampler=val_sampler)"
      ],
      "execution_count": null,
      "outputs": []
    },
    {
      "cell_type": "code",
      "metadata": {
        "id": "78meu7pExvSG",
        "colab_type": "code",
        "colab": {}
      },
      "source": [
        "import torch.nn.functional as F\n",
        "import torch.nn as nn"
      ],
      "execution_count": null,
      "outputs": []
    },
    {
      "cell_type": "code",
      "metadata": {
        "id": "dYiMeUSWxO4V",
        "colab_type": "code",
        "colab": {}
      },
      "source": [
        "class Model(nn.Module):\n",
        "    def __init__(self):\n",
        "        super(Model, self).__init__()\n",
        "        self.conv1 = nn.Conv2d(3, 16, 3, padding=1)\n",
        "        self.conv2 = nn.Conv2d(16, 32, 3, padding=1)\n",
        "        self.conv3 = nn.Conv2d(32, 64, 3, padding=1)\n",
        "        self.pool = nn.MaxPool2d(2, 2)\n",
        "        self.linear1 = nn.Linear(1024, 512)\n",
        "        self.linear2 = nn.Linear(512, 10)\n",
        "    \n",
        "    def forward(self, x):\n",
        "        x = self.pool(F.relu(self.conv1(x)))\n",
        "        x = self.pool(F.relu(self.conv2(x)))\n",
        "        x = self.pool(F.relu(self.conv3(x)))\n",
        "        x = x.view(-1, 1024) ## reshaping \n",
        "        x = F.relu(self.linear1(x))\n",
        "        x = self.linear2(x)\n",
        "        return x\n",
        "\n",
        "model = Model()"
      ],
      "execution_count": null,
      "outputs": []
    },
    {
      "cell_type": "code",
      "metadata": {
        "id": "sOzaJe-9xXAU",
        "colab_type": "code",
        "colab": {}
      },
      "source": [
        "import torch.optim as optim\n",
        "loss_function = nn.CrossEntropyLoss()\n",
        "optimizer = optim.SGD(model.parameters(), lr=0.01, weight_decay= 1e-6, momentum = 0.9, nesterov = True)"
      ],
      "execution_count": null,
      "outputs": []
    },
    {
      "cell_type": "code",
      "metadata": {
        "id": "M3d245rtxXpF",
        "colab_type": "code",
        "colab": {
          "base_uri": "https://localhost:8080/",
          "height": 550
        },
        "outputId": "c4520f71-f4bd-4b08-8f9b-94a21c554637"
      },
      "source": [
        "for epoch in range(1, 31):\n",
        "    train_loss, valid_loss = [], []\n",
        "    model.train()\n",
        "    for data, target in trainloader:\n",
        "        optimizer.zero_grad()\n",
        "        output = model(data)\n",
        "        loss = loss_function(output, target)\n",
        "        loss.backward()\n",
        "        optimizer.step()\n",
        "        train_loss.append(loss.item()) \n",
        "        \n",
        "    model.eval()\n",
        "    for data, target in validloader:\n",
        "        output = model(data)\n",
        "        loss = loss_function(output, target)\n",
        "        valid_loss.append(loss.item())\n",
        "    print (\"Epoch:\", epoch, \"Training Loss: \", np.mean(train_loss), \"Valid Loss: \", np.mean(valid_loss))    "
      ],
      "execution_count": null,
      "outputs": [
        {
          "output_type": "stream",
          "text": [
            "Epoch: 1 Training Loss:  1.3627565803041883 Valid Loss:  1.484304541349411\n",
            "Epoch: 2 Training Loss:  1.2454202167547432 Valid Loss:  1.3160793691873551\n",
            "Epoch: 3 Training Loss:  1.1418564790373396 Valid Loss:  1.2300742864608765\n",
            "Epoch: 4 Training Loss:  1.049852869313234 Valid Loss:  1.2266778707504273\n",
            "Epoch: 5 Training Loss:  0.9644250881140399 Valid Loss:  1.0420596137642861\n",
            "Epoch: 6 Training Loss:  0.8987426678086542 Valid Loss:  1.055733396112919\n",
            "Epoch: 7 Training Loss:  0.8323356983767953 Valid Loss:  1.0087993264198303\n",
            "Epoch: 8 Training Loss:  0.7749018600791883 Valid Loss:  1.0410875603556633\n",
            "Epoch: 9 Training Loss:  0.7222372684509132 Valid Loss:  0.9144182115793228\n",
            "Epoch: 10 Training Loss:  0.6686478469781815 Valid Loss:  1.083518135547638\n",
            "Epoch: 11 Training Loss:  0.6191151087071486 Valid Loss:  0.8976745322346688\n",
            "Epoch: 12 Training Loss:  0.5677282815905893 Valid Loss:  0.9332229390740394\n",
            "Epoch: 13 Training Loss:  0.5126893414053947 Valid Loss:  0.9160177350044251\n",
            "Epoch: 14 Training Loss:  0.4634807675507418 Valid Loss:  1.0219024285674094\n",
            "Epoch: 15 Training Loss:  0.41360645821899367 Valid Loss:  0.9284905016422271\n",
            "Epoch: 16 Training Loss:  0.362484037971041 Valid Loss:  0.8965144693851471\n",
            "Epoch: 17 Training Loss:  0.31263339244256355 Valid Loss:  0.9940510004758835\n",
            "Epoch: 18 Training Loss:  0.26159165030831744 Valid Loss:  1.0320434004068375\n",
            "Epoch: 19 Training Loss:  0.22482192288538452 Valid Loss:  1.0819353938102723\n",
            "Epoch: 20 Training Loss:  0.18465545241999778 Valid Loss:  1.1211816757917403\n",
            "Epoch: 21 Training Loss:  0.14993835231111308 Valid Loss:  1.2022519677877426\n",
            "Epoch: 22 Training Loss:  0.11310507902863678 Valid Loss:  1.3552373230457306\n",
            "Epoch: 23 Training Loss:  0.0970098874086787 Valid Loss:  1.6148621022701264\n",
            "Epoch: 24 Training Loss:  0.08190000693129885 Valid Loss:  1.4974418565630914\n",
            "Epoch: 25 Training Loss:  0.0690886367847965 Valid Loss:  1.5379065603017807\n",
            "Epoch: 26 Training Loss:  0.047197931452067035 Valid Loss:  1.5021492160856724\n",
            "Epoch: 27 Training Loss:  0.029291701544621948 Valid Loss:  1.5645467549562455\n",
            "Epoch: 28 Training Loss:  0.016433761719092253 Valid Loss:  1.6520656540989875\n",
            "Epoch: 29 Training Loss:  0.007485400220960568 Valid Loss:  1.6692607060074807\n",
            "Epoch: 30 Training Loss:  0.0036481009851132705 Valid Loss:  1.7356508672237396\n"
          ],
          "name": "stdout"
        }
      ]
    },
    {
      "cell_type": "code",
      "metadata": {
        "id": "DOFE9C7gxgVb",
        "colab_type": "code",
        "colab": {}
      },
      "source": [
        "dataiter = iter(validloader)\n",
        "data, labels = dataiter.next()\n",
        "output = model(data)"
      ],
      "execution_count": null,
      "outputs": []
    },
    {
      "cell_type": "code",
      "metadata": {
        "id": "uggVIW8vyiBU",
        "colab_type": "code",
        "colab": {}
      },
      "source": [
        "import numpy as np"
      ],
      "execution_count": null,
      "outputs": []
    },
    {
      "cell_type": "code",
      "metadata": {
        "id": "MGO9ppXuxhCL",
        "colab_type": "code",
        "colab": {}
      },
      "source": [
        "_, preds_tensor = torch.max(output, 1)\n",
        "preds = np.squeeze(preds_tensor.numpy())"
      ],
      "execution_count": null,
      "outputs": []
    },
    {
      "cell_type": "code",
      "metadata": {
        "id": "Cv1Cm9Vbxjlj",
        "colab_type": "code",
        "colab": {
          "base_uri": "https://localhost:8080/",
          "height": 52
        },
        "outputId": "d951eb1d-fdae-4e5e-90fc-a6eb7f4b79a5"
      },
      "source": [
        "print (\"Actual:\", labels[:10])\n",
        "print (\"Predicted:\", preds[:10])"
      ],
      "execution_count": null,
      "outputs": [
        {
          "output_type": "stream",
          "text": [
            "Actual: tensor([5, 9, 7, 4, 4, 1, 3, 1, 2, 8])\n",
            "Predicted: [7 1 7 0 3 1 6 9 0 9]\n"
          ],
          "name": "stdout"
        }
      ]
    }
  ]
}